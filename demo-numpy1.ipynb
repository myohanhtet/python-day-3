{
 "cells": [
  {
   "cell_type": "code",
   "execution_count": null,
   "id": "5a8441d5",
   "metadata": {},
   "outputs": [],
   "source": [
    "import numpy as np#"
   ]
  },
  {
   "cell_type": "code",
   "execution_count": 35,
   "id": "0815ef64",
   "metadata": {},
   "outputs": [
    {
     "name": "stdout",
     "output_type": "stream",
     "text": [
      "[[[ 1  2]\n",
      "  [ 3  4]]\n",
      "\n",
      " [[ 5  6]\n",
      "  [ 7  8]]\n",
      "\n",
      " [[ 9 10]\n",
      "  [11 12]]]\n",
      "3\n",
      "12\n",
      "[[ 1  2  3  4]\n",
      " [ 5  6  7  8]\n",
      " [ 9 10 11 12]]\n",
      "2\n"
     ]
    }
   ],
   "source": [
    "import numpy as np\n",
    "\n",
    "arr1 = np.array([10,2,7,5])\n",
    "#print(arr1)\n",
    "#print(type(arr1))\n",
    "#print(np.size(arr1))\n",
    "# print(arr1.sort())\n",
    "\n",
    "arr1 = np.append(arr1, [11])\n",
    "#print(arr1)\n",
    "arr1 = np.insert(arr1, 0, 9)#print(arr1)\n",
    "\n",
    "arr1 = np.delete(arr1, 0)\n",
    "#print(arr1)\n",
    "\n",
    "\n",
    "arr2 = np.array([[ [1, 2, 3], [4, 5, 6] ], [ [7, 8, 9], [10, 11, 12] ] ])\n",
    "# print(arr2)\n",
    "# print(arr2.ndim)\n",
    "# print(arr2.size)\n",
    "\n",
    "arr5 = np.array([1, 2, 3, 4, 5, 6, 7, 8, 9, 10,11,12])\n",
    "\n",
    "arr5 = np.reshape(arr5, (3, 2,2))\n",
    "print(arr5)\n",
    "print(arr5.ndim)\n",
    "print(arr5.size)\n",
    "\n",
    "arr5 = arr5.reshape(arr5.shape[0],-1)\n",
    "print(arr5)\n",
    "print(arr5.ndim)"
   ]
  }
 ],
 "metadata": {
  "kernelspec": {
   "display_name": "mypyenv-3.13",
   "language": "python",
   "name": "python3"
  },
  "language_info": {
   "codemirror_mode": {
    "name": "ipython",
    "version": 3
   },
   "file_extension": ".py",
   "mimetype": "text/x-python",
   "name": "python",
   "nbconvert_exporter": "python",
   "pygments_lexer": "ipython3",
   "version": "3.13.5"
  }
 },
 "nbformat": 4,
 "nbformat_minor": 5
}
